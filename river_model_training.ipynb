{
 "cells": [
  {
   "cell_type": "code",
   "execution_count": 67,
   "metadata": {},
   "outputs": [
    {
     "data": {
      "text/plain": [
       "Accuracy: 49.51%"
      ]
     },
     "execution_count": 67,
     "metadata": {},
     "output_type": "execute_result"
    }
   ],
   "source": [
    "import itertools\n",
    "import pandas as pd\n",
    "import requests\n",
    "from river import datasets\n",
    "from river import utils\n",
    "from river import evaluate\n",
    "from river import forest\n",
    "from river import metrics\n",
    "from river import stream\n",
    "\n",
    "url = \"https://data.alpaca.markets/v1beta3/crypto/us/bars?symbols=BTC%2FUSD&timeframe=1Min&start=2023-08-01T00%3A00%3A00Z&limit=10000&sort=asc\"\n",
    "\n",
    "headers = {\"accept\": \"application/json\"}\n",
    "\n",
    "response = requests.get(url, headers=headers).json()\n",
    "\n",
    "data = response[\"bars\"]['BTC/USD']\n",
    "\n",
    "df = pd.DataFrame(data)\n",
    "\n",
    "df[\"next_minute\"] = df[\"c\"].shift(-1)\n",
    "df['target'] = (df[\"c\"] < df[\"next_minute\"]).astype(int)\n",
    "\n",
    "\n",
    "\n",
    "x = df.drop(columns=['target','n','v','vw']).iloc[:-1000]\n",
    "y = df['target'].iloc[:-1000]\n",
    "\n",
    "feature_list = x.to_dict(orient='records')\n",
    "target_list = y.tolist()\n",
    "\n",
    "# # x_iter = x.to_L\n",
    "# y_iter = y.items()\n",
    "\n",
    "# x_slice = itertools.islice(x_iter, 1000)\n",
    "# y_slice = itertools.islice(y_iter, 1000)\n",
    "\n",
    "dataset = df.iloc[:-1000]\n",
    "\n",
    "model = forest.AMFClassifier(\n",
    "    n_estimators=10,\n",
    "    use_aggregation=True,\n",
    "    dirichlet=0.5,\n",
    "    seed=1\n",
    ")\n",
    "\n",
    "metric = metrics.Accuracy()\n",
    "\n",
    "evaluate.progressive_val_score(stream.iter_array(feature_list,target_list), model, metric)\n",
    "\n"
   ]
  },
  {
   "cell_type": "code",
   "execution_count": 50,
   "metadata": {},
   "outputs": [
    {
     "data": {
      "text/plain": [
       "<itertools.islice at 0x2816c29c270>"
      ]
     },
     "execution_count": 50,
     "metadata": {},
     "output_type": "execute_result"
    }
   ],
   "source": [
    "dataset = datasets.Bananas().take(500)\n",
    "\n",
    "dataset"
   ]
  }
 ],
 "metadata": {
  "kernelspec": {
   "display_name": "Python 3",
   "language": "python",
   "name": "python3"
  },
  "language_info": {
   "codemirror_mode": {
    "name": "ipython",
    "version": 3
   },
   "file_extension": ".py",
   "mimetype": "text/x-python",
   "name": "python",
   "nbconvert_exporter": "python",
   "pygments_lexer": "ipython3",
   "version": "3.11.4"
  },
  "orig_nbformat": 4
 },
 "nbformat": 4,
 "nbformat_minor": 2
}
